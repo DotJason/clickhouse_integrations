{
 "cells": [
  {
   "cell_type": "markdown",
   "id": "8880a8a4",
   "metadata": {},
   "source": [
    "Импортируем пакет для работы с MySQL."
   ]
  },
  {
   "cell_type": "code",
   "execution_count": 1,
   "id": "ebaa7451",
   "metadata": {},
   "outputs": [],
   "source": [
    "import mysql.connector"
   ]
  },
  {
   "cell_type": "markdown",
   "id": "7669064e",
   "metadata": {},
   "source": [
    "Подключаемся к локальному серверу ClickHouse через пользователя по умолчанию и без пароля. По умолчанию порт, на котором ClickHouse принимает запросы по протоколу MySQL – 9004."
   ]
  },
  {
   "cell_type": "code",
   "execution_count": 2,
   "id": "80220817",
   "metadata": {},
   "outputs": [],
   "source": [
    "cnx = mysql.connector.connect(user='default', password='', host='127.0.0.1', port='9004')"
   ]
  },
  {
   "cell_type": "markdown",
   "id": "f7094c49",
   "metadata": {},
   "source": [
    "Инициализируем курсор для запросов."
   ]
  },
  {
   "cell_type": "code",
   "execution_count": 3,
   "id": "407a36f9",
   "metadata": {},
   "outputs": [],
   "source": [
    "cursor = cnx.cursor()"
   ]
  },
  {
   "cell_type": "markdown",
   "id": "69e4065e",
   "metadata": {},
   "source": [
    "Создадим простую таблицу и запишем туда данные:"
   ]
  },
  {
   "cell_type": "code",
   "execution_count": 4,
   "id": "b257053c",
   "metadata": {},
   "outputs": [],
   "source": [
    "create_table = ('''\n",
    "    CREATE TABLE test\n",
    "    (\n",
    "        a UInt32,\n",
    "        b String\n",
    "    )\n",
    "    ENGINE = MergeTree\n",
    "    ORDER BY a;\n",
    "''')\n",
    "\n",
    "insert_values = ('''\n",
    "    INSERT INTO test VALUES\n",
    "    (1, 'Hello World'),\n",
    "    (2, 'According to'),\n",
    "    (3, 'Lorem Ipsum')\n",
    "''')"
   ]
  },
  {
   "cell_type": "code",
   "execution_count": 5,
   "id": "c6dac94d",
   "metadata": {},
   "outputs": [],
   "source": [
    "cursor.execute(create_table)"
   ]
  },
  {
   "cell_type": "code",
   "execution_count": 6,
   "id": "64f08f72",
   "metadata": {},
   "outputs": [],
   "source": [
    "cursor.execute(insert_values)"
   ]
  },
  {
   "cell_type": "markdown",
   "id": "20f13f74",
   "metadata": {},
   "source": [
    "Наконец, запросим данные из нашей таблицы:"
   ]
  },
  {
   "cell_type": "code",
   "execution_count": 7,
   "id": "e9f6f032",
   "metadata": {},
   "outputs": [],
   "source": [
    "query = \"SELECT * FROM test\""
   ]
  },
  {
   "cell_type": "code",
   "execution_count": 8,
   "id": "c449701f",
   "metadata": {},
   "outputs": [
    {
     "name": "stdout",
     "output_type": "stream",
     "text": [
      "1 Hello World\n",
      "2 According to\n",
      "3 Lorem Ipsum\n"
     ]
    }
   ],
   "source": [
    "cursor.execute(query)\n",
    "for (a, b) in cursor:\n",
    "    print(a, b)"
   ]
  },
  {
   "cell_type": "markdown",
   "id": "e3d3626f",
   "metadata": {},
   "source": [
    "Также проверим, что работают запросы, использующие ClickHouse-специфичный диалект, например, лямбда-выражения:"
   ]
  },
  {
   "cell_type": "code",
   "execution_count": 9,
   "id": "ee7eefb6",
   "metadata": {},
   "outputs": [],
   "source": [
    "query_dialect = ('''\n",
    "    SELECT\n",
    "        [0, 1, 2, 3, 4, 5] AS arr,\n",
    "        arrayMap(i -> greatest(i, 3), arr) AS arr_max\n",
    "''')"
   ]
  },
  {
   "cell_type": "code",
   "execution_count": 10,
   "id": "305248d1",
   "metadata": {},
   "outputs": [
    {
     "name": "stdout",
     "output_type": "stream",
     "text": [
      "('[0,1,2,3,4,5]', '[3,3,3,3,4,5]')\n"
     ]
    }
   ],
   "source": [
    "cursor.execute(query_dialect)\n",
    "for arrs in cursor:\n",
    "    print(arrs)"
   ]
  },
  {
   "cell_type": "code",
   "execution_count": 11,
   "id": "493e2c28",
   "metadata": {},
   "outputs": [],
   "source": [
    "drop_table = \"DROP TABLE test\""
   ]
  },
  {
   "cell_type": "code",
   "execution_count": 12,
   "id": "c0517f87",
   "metadata": {},
   "outputs": [],
   "source": [
    "cursor.execute(drop_table)"
   ]
  },
  {
   "cell_type": "code",
   "execution_count": 13,
   "id": "150944ab",
   "metadata": {},
   "outputs": [],
   "source": [
    "cnx.close()"
   ]
  }
 ],
 "metadata": {
  "kernelspec": {
   "display_name": "Python 3 (ipykernel)",
   "language": "python",
   "name": "python3"
  },
  "language_info": {
   "codemirror_mode": {
    "name": "ipython",
    "version": 3
   },
   "file_extension": ".py",
   "mimetype": "text/x-python",
   "name": "python",
   "nbconvert_exporter": "python",
   "pygments_lexer": "ipython3",
   "version": "3.8.10"
  }
 },
 "nbformat": 4,
 "nbformat_minor": 5
}
